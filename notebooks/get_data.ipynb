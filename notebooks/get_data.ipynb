{
 "cells": [
  {
   "cell_type": "code",
   "execution_count": 1,
   "id": "38bbba31",
   "metadata": {},
   "outputs": [],
   "source": [
    "import io\n",
    "import json\n",
    "import zipfile\n",
    "\n",
    "import httpx\n",
    "from rich import print as rprint\n",
    "from tqdm import tqdm"
   ]
  },
  {
   "cell_type": "markdown",
   "id": "25030b69",
   "metadata": {},
   "source": [
    "# API"
   ]
  },
  {
   "cell_type": "code",
   "execution_count": 2,
   "id": "c1c09f00",
   "metadata": {},
   "outputs": [],
   "source": [
    "class CamaraAPI:\n",
    "    def __init__(self) -> None:\n",
    "        self.base_url = \"https://dadosabertos.camara.leg.br/api/v2\"\n",
    "\n",
    "    def request(self, endpoint: str) -> dict:\n",
    "        response = httpx.get(f\"{self.base_url}/{endpoint}\")\n",
    "        return response.json()\n",
    "\n",
    "    def get_deputados(self) -> dict:\n",
    "        return self.request(\"deputados\").get(\"dados\", {})\n",
    "\n",
    "    def get_despesas(self, id_: int, year: int = 2022) -> dict:\n",
    "        return self.request(f\"deputados/{id_}/despesas?ano={year}\")"
   ]
  },
  {
   "cell_type": "code",
   "execution_count": 3,
   "id": "91f45f09",
   "metadata": {},
   "outputs": [
    {
     "name": "stderr",
     "output_type": "stream",
     "text": [
      "100%|██████████| 512/512 [01:37<00:00,  5.25it/s]\n"
     ]
    },
    {
     "data": {
      "text/html": [
       "<pre style=\"white-space:pre;overflow-x:auto;line-height:normal;font-family:Menlo,'DejaVu Sans Mono',consolas,'Courier New',monospace\"><span style=\"color: #008080; text-decoration-color: #008080; font-weight: bold\">31</span>\n",
       "</pre>\n"
      ],
      "text/plain": [
       "\u001b[1;36m31\u001b[0m\n"
      ]
     },
     "metadata": {},
     "output_type": "display_data"
    }
   ],
   "source": [
    "despesas = []\n",
    "\n",
    "api = CamaraAPI()\n",
    "\n",
    "deputados = api.get_deputados()\n",
    "for deputado in tqdm(deputados):\n",
    "    id_ = deputado[\"id\"]\n",
    "    despesas_deputado = api.get_despesas(id_=id_, year=2022)\n",
    "    despesas.extend(despesas_deputado[\"dados\"])\n",
    "rprint(len(despesas))"
   ]
  },
  {
   "cell_type": "code",
   "execution_count": 4,
   "id": "821596dd",
   "metadata": {},
   "outputs": [
    {
     "data": {
      "text/html": [
       "<pre style=\"white-space:pre;overflow-x:auto;line-height:normal;font-family:Menlo,'DejaVu Sans Mono',consolas,'Courier New',monospace\"><span style=\"font-weight: bold\">{</span>\n",
       "    <span style=\"color: #008000; text-decoration-color: #008000\">'id'</span>: <span style=\"color: #008080; text-decoration-color: #008080; font-weight: bold\">204379</span>,\n",
       "    <span style=\"color: #008000; text-decoration-color: #008000\">'uri'</span>: <span style=\"color: #008000; text-decoration-color: #008000\">'https://dadosabertos.camara.leg.br/api/v2/deputados/204379'</span>,\n",
       "    <span style=\"color: #008000; text-decoration-color: #008000\">'nome'</span>: <span style=\"color: #008000; text-decoration-color: #008000\">'Acácio Favacho'</span>,\n",
       "    <span style=\"color: #008000; text-decoration-color: #008000\">'siglaPartido'</span>: <span style=\"color: #008000; text-decoration-color: #008000\">'MDB'</span>,\n",
       "    <span style=\"color: #008000; text-decoration-color: #008000\">'uriPartido'</span>: <span style=\"color: #008000; text-decoration-color: #008000\">'https://dadosabertos.camara.leg.br/api/v2/partidos/36899'</span>,\n",
       "    <span style=\"color: #008000; text-decoration-color: #008000\">'siglaUf'</span>: <span style=\"color: #008000; text-decoration-color: #008000\">'AP'</span>,\n",
       "    <span style=\"color: #008000; text-decoration-color: #008000\">'idLegislatura'</span>: <span style=\"color: #008080; text-decoration-color: #008080; font-weight: bold\">57</span>,\n",
       "    <span style=\"color: #008000; text-decoration-color: #008000\">'urlFoto'</span>: <span style=\"color: #008000; text-decoration-color: #008000\">'https://www.camara.leg.br/internet/deputado/bandep/204379.jpg'</span>,\n",
       "    <span style=\"color: #008000; text-decoration-color: #008000\">'email'</span>: <span style=\"color: #008000; text-decoration-color: #008000\">'dep.acaciofavacho@camara.leg.br'</span>\n",
       "<span style=\"font-weight: bold\">}</span>\n",
       "</pre>\n"
      ],
      "text/plain": [
       "\u001b[1m{\u001b[0m\n",
       "    \u001b[32m'id'\u001b[0m: \u001b[1;36m204379\u001b[0m,\n",
       "    \u001b[32m'uri'\u001b[0m: \u001b[32m'https://dadosabertos.camara.leg.br/api/v2/deputados/204379'\u001b[0m,\n",
       "    \u001b[32m'nome'\u001b[0m: \u001b[32m'Acácio Favacho'\u001b[0m,\n",
       "    \u001b[32m'siglaPartido'\u001b[0m: \u001b[32m'MDB'\u001b[0m,\n",
       "    \u001b[32m'uriPartido'\u001b[0m: \u001b[32m'https://dadosabertos.camara.leg.br/api/v2/partidos/36899'\u001b[0m,\n",
       "    \u001b[32m'siglaUf'\u001b[0m: \u001b[32m'AP'\u001b[0m,\n",
       "    \u001b[32m'idLegislatura'\u001b[0m: \u001b[1;36m57\u001b[0m,\n",
       "    \u001b[32m'urlFoto'\u001b[0m: \u001b[32m'https://www.camara.leg.br/internet/deputado/bandep/204379.jpg'\u001b[0m,\n",
       "    \u001b[32m'email'\u001b[0m: \u001b[32m'dep.acaciofavacho@camara.leg.br'\u001b[0m\n",
       "\u001b[1m}\u001b[0m\n"
      ]
     },
     "metadata": {},
     "output_type": "display_data"
    }
   ],
   "source": [
    "rprint(deputados[0])"
   ]
  },
  {
   "cell_type": "code",
   "execution_count": 5,
   "id": "2d0b4b8c",
   "metadata": {},
   "outputs": [
    {
     "data": {
      "text/html": [
       "<pre style=\"white-space:pre;overflow-x:auto;line-height:normal;font-family:Menlo,'DejaVu Sans Mono',consolas,'Courier New',monospace\"><span style=\"font-weight: bold\">{</span>\n",
       "    <span style=\"color: #008000; text-decoration-color: #008000\">'ano'</span>: <span style=\"color: #008080; text-decoration-color: #008080; font-weight: bold\">2022</span>,\n",
       "    <span style=\"color: #008000; text-decoration-color: #008000\">'mes'</span>: <span style=\"color: #008080; text-decoration-color: #008080; font-weight: bold\">12</span>,\n",
       "    <span style=\"color: #008000; text-decoration-color: #008000\">'tipoDespesa'</span>: <span style=\"color: #008000; text-decoration-color: #008000\">'LOCAÇÃO OU FRETAMENTO DE VEÍCULOS AUTOMOTORES'</span>,\n",
       "    <span style=\"color: #008000; text-decoration-color: #008000\">'codDocumento'</span>: <span style=\"color: #008080; text-decoration-color: #008080; font-weight: bold\">7499778</span>,\n",
       "    <span style=\"color: #008000; text-decoration-color: #008000\">'tipoDocumento'</span>: <span style=\"color: #008000; text-decoration-color: #008000\">'Nota Fiscal'</span>,\n",
       "    <span style=\"color: #008000; text-decoration-color: #008000\">'codTipoDocumento'</span>: <span style=\"color: #008080; text-decoration-color: #008080; font-weight: bold\">0</span>,\n",
       "    <span style=\"color: #008000; text-decoration-color: #008000\">'dataDocumento'</span>: <span style=\"color: #008000; text-decoration-color: #008000\">'2023-02-17T00:00:00'</span>,\n",
       "    <span style=\"color: #008000; text-decoration-color: #008000\">'numDocumento'</span>: <span style=\"color: #008000; text-decoration-color: #008000\">'635'</span>,\n",
       "    <span style=\"color: #008000; text-decoration-color: #008000\">'valorDocumento'</span>: <span style=\"color: #008080; text-decoration-color: #008080; font-weight: bold\">3090.0</span>,\n",
       "    <span style=\"color: #008000; text-decoration-color: #008000\">'urlDocumento'</span>: <span style=\"color: #008000; text-decoration-color: #008000\">'https://www.camara.leg.br/cota-parlamentar/documentos/publ/1758/2023/7499778.pdf'</span>,\n",
       "    <span style=\"color: #008000; text-decoration-color: #008000\">'nomeFornecedor'</span>: <span style=\"color: #008000; text-decoration-color: #008000\">'LIZIANE QUEVEDO'</span>,\n",
       "    <span style=\"color: #008000; text-decoration-color: #008000\">'cnpjCpfFornecedor'</span>: <span style=\"color: #008000; text-decoration-color: #008000\">'07086926000190'</span>,\n",
       "    <span style=\"color: #008000; text-decoration-color: #008000\">'valorLiquido'</span>: <span style=\"color: #008080; text-decoration-color: #008080; font-weight: bold\">3090.0</span>,\n",
       "    <span style=\"color: #008000; text-decoration-color: #008000\">'valorGlosa'</span>: <span style=\"color: #008080; text-decoration-color: #008080; font-weight: bold\">0.0</span>,\n",
       "    <span style=\"color: #008000; text-decoration-color: #008000\">'numRessarcimento'</span>: <span style=\"color: #008000; text-decoration-color: #008000\">''</span>,\n",
       "    <span style=\"color: #008000; text-decoration-color: #008000\">'codLote'</span>: <span style=\"color: #008080; text-decoration-color: #008080; font-weight: bold\">1909470</span>,\n",
       "    <span style=\"color: #008000; text-decoration-color: #008000\">'parcela'</span>: <span style=\"color: #008080; text-decoration-color: #008080; font-weight: bold\">0</span>\n",
       "<span style=\"font-weight: bold\">}</span>\n",
       "</pre>\n"
      ],
      "text/plain": [
       "\u001b[1m{\u001b[0m\n",
       "    \u001b[32m'ano'\u001b[0m: \u001b[1;36m2022\u001b[0m,\n",
       "    \u001b[32m'mes'\u001b[0m: \u001b[1;36m12\u001b[0m,\n",
       "    \u001b[32m'tipoDespesa'\u001b[0m: \u001b[32m'LOCAÇÃO OU FRETAMENTO DE VEÍCULOS AUTOMOTORES'\u001b[0m,\n",
       "    \u001b[32m'codDocumento'\u001b[0m: \u001b[1;36m7499778\u001b[0m,\n",
       "    \u001b[32m'tipoDocumento'\u001b[0m: \u001b[32m'Nota Fiscal'\u001b[0m,\n",
       "    \u001b[32m'codTipoDocumento'\u001b[0m: \u001b[1;36m0\u001b[0m,\n",
       "    \u001b[32m'dataDocumento'\u001b[0m: \u001b[32m'2023-02-17T00:00:00'\u001b[0m,\n",
       "    \u001b[32m'numDocumento'\u001b[0m: \u001b[32m'635'\u001b[0m,\n",
       "    \u001b[32m'valorDocumento'\u001b[0m: \u001b[1;36m3090.0\u001b[0m,\n",
       "    \u001b[32m'urlDocumento'\u001b[0m: \u001b[32m'https://www.camara.leg.br/cota-parlamentar/documentos/publ/1758/2023/7499778.pdf'\u001b[0m,\n",
       "    \u001b[32m'nomeFornecedor'\u001b[0m: \u001b[32m'LIZIANE QUEVEDO'\u001b[0m,\n",
       "    \u001b[32m'cnpjCpfFornecedor'\u001b[0m: \u001b[32m'07086926000190'\u001b[0m,\n",
       "    \u001b[32m'valorLiquido'\u001b[0m: \u001b[1;36m3090.0\u001b[0m,\n",
       "    \u001b[32m'valorGlosa'\u001b[0m: \u001b[1;36m0.0\u001b[0m,\n",
       "    \u001b[32m'numRessarcimento'\u001b[0m: \u001b[32m''\u001b[0m,\n",
       "    \u001b[32m'codLote'\u001b[0m: \u001b[1;36m1909470\u001b[0m,\n",
       "    \u001b[32m'parcela'\u001b[0m: \u001b[1;36m0\u001b[0m\n",
       "\u001b[1m}\u001b[0m\n"
      ]
     },
     "metadata": {},
     "output_type": "display_data"
    }
   ],
   "source": [
    "rprint(despesas[0])"
   ]
  },
  {
   "cell_type": "markdown",
   "id": "7893630c",
   "metadata": {},
   "source": [
    "# URL"
   ]
  },
  {
   "cell_type": "code",
   "execution_count": 6,
   "id": "b18510b7",
   "metadata": {},
   "outputs": [
    {
     "data": {
      "text/html": [
       "<pre style=\"white-space:pre;overflow-x:auto;line-height:normal;font-family:Menlo,'DejaVu Sans Mono',consolas,'Courier New',monospace\"><span style=\"color: #008080; text-decoration-color: #008080; font-weight: bold\">209227</span>\n",
       "</pre>\n"
      ],
      "text/plain": [
       "\u001b[1;36m209227\u001b[0m\n"
      ]
     },
     "metadata": {},
     "output_type": "display_data"
    }
   ],
   "source": [
    "def get_despesas(url: str) -> dict[str, list[dict[str, list]]]:\n",
    "    response = httpx.get(url=url)\n",
    "    zip_content = response.content\n",
    "\n",
    "    with zipfile.ZipFile(io.BytesIO(zip_content)) as zip_file:\n",
    "        with zip_file.open(zip_file.namelist()[0]) as json_file:\n",
    "            json_content = json_file.read().decode(\"utf-8\")\n",
    "\n",
    "    return json.loads(json_content).get(\"dados\")\n",
    "\n",
    "\n",
    "url = \"https://www.camara.leg.br/cotas/Ano-2022.json.zip\"\n",
    "despesas = get_despesas(url=url)\n",
    "rprint(len(despesas))"
   ]
  },
  {
   "cell_type": "code",
   "execution_count": 7,
   "id": "6c65d190",
   "metadata": {},
   "outputs": [
    {
     "data": {
      "text/html": [
       "<pre style=\"white-space:pre;overflow-x:auto;line-height:normal;font-family:Menlo,'DejaVu Sans Mono',consolas,'Courier New',monospace\"><span style=\"font-weight: bold\">{</span>\n",
       "    <span style=\"color: #008000; text-decoration-color: #008000\">'nomeParlamentar'</span>: <span style=\"color: #008000; text-decoration-color: #008000\">'LIDERANÇA DO CIDADANIA'</span>,\n",
       "    <span style=\"color: #008000; text-decoration-color: #008000\">'cpf'</span>: <span style=\"color: #008000; text-decoration-color: #008000\">''</span>,\n",
       "    <span style=\"color: #008000; text-decoration-color: #008000\">'numeroCarteiraParlamentar'</span>: <span style=\"color: #008000; text-decoration-color: #008000\">''</span>,\n",
       "    <span style=\"color: #008000; text-decoration-color: #008000\">'legislatura'</span>: <span style=\"color: #008080; text-decoration-color: #008080; font-weight: bold\">2019</span>,\n",
       "    <span style=\"color: #008000; text-decoration-color: #008000\">'siglaUF'</span>: <span style=\"color: #008000; text-decoration-color: #008000\">'NA'</span>,\n",
       "    <span style=\"color: #008000; text-decoration-color: #008000\">'siglaPartido'</span>: <span style=\"color: #008000; text-decoration-color: #008000\">''</span>,\n",
       "    <span style=\"color: #008000; text-decoration-color: #008000\">'codigoLegislatura'</span>: <span style=\"color: #008080; text-decoration-color: #008080; font-weight: bold\">56</span>,\n",
       "    <span style=\"color: #008000; text-decoration-color: #008000\">'numeroSubCota'</span>: <span style=\"color: #008080; text-decoration-color: #008080; font-weight: bold\">4</span>,\n",
       "    <span style=\"color: #008000; text-decoration-color: #008000\">'descricao'</span>: <span style=\"color: #008000; text-decoration-color: #008000\">'CONSULTORIAS, PESQUISAS E TRABALHOS TÉCNICOS.'</span>,\n",
       "    <span style=\"color: #008000; text-decoration-color: #008000\">'numeroEspecificacaoSubCota'</span>: <span style=\"color: #008080; text-decoration-color: #008080; font-weight: bold\">0</span>,\n",
       "    <span style=\"color: #008000; text-decoration-color: #008000\">'descricaoEspecificacao'</span>: <span style=\"color: #008000; text-decoration-color: #008000\">''</span>,\n",
       "    <span style=\"color: #008000; text-decoration-color: #008000\">'fornecedor'</span>: <span style=\"color: #008000; text-decoration-color: #008000\">'KAWAMURA, CALHADO E VILELA SOCIEDADE DE ADVOGADOS'</span>,\n",
       "    <span style=\"color: #008000; text-decoration-color: #008000\">'cnpjCPF'</span>: <span style=\"color: #008000; text-decoration-color: #008000\">'166.923.980/0010-4 '</span>,\n",
       "    <span style=\"color: #008000; text-decoration-color: #008000\">'numero'</span>: <span style=\"color: #008000; text-decoration-color: #008000\">'1'</span>,\n",
       "    <span style=\"color: #008000; text-decoration-color: #008000\">'tipoDocumento'</span>: <span style=\"color: #008000; text-decoration-color: #008000\">'0'</span>,\n",
       "    <span style=\"color: #008000; text-decoration-color: #008000\">'dataEmissao'</span>: <span style=\"color: #008000; text-decoration-color: #008000\">'2023-02-15T00:00:00'</span>,\n",
       "    <span style=\"color: #008000; text-decoration-color: #008000\">'valorDocumento'</span>: <span style=\"color: #008000; text-decoration-color: #008000\">'28500'</span>,\n",
       "    <span style=\"color: #008000; text-decoration-color: #008000\">'valorGlosa'</span>: <span style=\"color: #008000; text-decoration-color: #008000\">'0'</span>,\n",
       "    <span style=\"color: #008000; text-decoration-color: #008000\">'valorLiquido'</span>: <span style=\"color: #008000; text-decoration-color: #008000\">'28500'</span>,\n",
       "    <span style=\"color: #008000; text-decoration-color: #008000\">'mes'</span>: <span style=\"color: #008080; text-decoration-color: #008080; font-weight: bold\">12</span>,\n",
       "    <span style=\"color: #008000; text-decoration-color: #008000\">'ano'</span>: <span style=\"color: #008080; text-decoration-color: #008080; font-weight: bold\">2022</span>,\n",
       "    <span style=\"color: #008000; text-decoration-color: #008000\">'parcela'</span>: <span style=\"color: #008080; text-decoration-color: #008080; font-weight: bold\">0</span>,\n",
       "    <span style=\"color: #008000; text-decoration-color: #008000\">'passageiro'</span>: <span style=\"color: #008000; text-decoration-color: #008000\">''</span>,\n",
       "    <span style=\"color: #008000; text-decoration-color: #008000\">'trecho'</span>: <span style=\"color: #008000; text-decoration-color: #008000\">''</span>,\n",
       "    <span style=\"color: #008000; text-decoration-color: #008000\">'lote'</span>: <span style=\"color: #008000; text-decoration-color: #008000\">'1899877'</span>,\n",
       "    <span style=\"color: #008000; text-decoration-color: #008000\">'ressarcimento'</span>: <span style=\"color: #008000; text-decoration-color: #008000\">''</span>,\n",
       "    <span style=\"color: #008000; text-decoration-color: #008000\">'datPagamentoRestituicao'</span>: <span style=\"color: #008000; text-decoration-color: #008000\">''</span>,\n",
       "    <span style=\"color: #008000; text-decoration-color: #008000\">'restituicao'</span>: <span style=\"color: #008000; text-decoration-color: #008000\">''</span>,\n",
       "    <span style=\"color: #008000; text-decoration-color: #008000\">'numeroDeputadoID'</span>: <span style=\"color: #008080; text-decoration-color: #008080; font-weight: bold\">3453</span>,\n",
       "    <span style=\"color: #008000; text-decoration-color: #008000\">'idDocumento'</span>: <span style=\"color: #008080; text-decoration-color: #008080; font-weight: bold\">7481981</span>,\n",
       "    <span style=\"color: #008000; text-decoration-color: #008000\">'urlDocumento'</span>: <span style=\"color: #008000; text-decoration-color: #008000\">'https://www.camara.leg.br/cota-parlamentar/documentos/publ/3453/2022/7481981.pdf'</span>\n",
       "<span style=\"font-weight: bold\">}</span>\n",
       "</pre>\n"
      ],
      "text/plain": [
       "\u001b[1m{\u001b[0m\n",
       "    \u001b[32m'nomeParlamentar'\u001b[0m: \u001b[32m'LIDERANÇA DO CIDADANIA'\u001b[0m,\n",
       "    \u001b[32m'cpf'\u001b[0m: \u001b[32m''\u001b[0m,\n",
       "    \u001b[32m'numeroCarteiraParlamentar'\u001b[0m: \u001b[32m''\u001b[0m,\n",
       "    \u001b[32m'legislatura'\u001b[0m: \u001b[1;36m2019\u001b[0m,\n",
       "    \u001b[32m'siglaUF'\u001b[0m: \u001b[32m'NA'\u001b[0m,\n",
       "    \u001b[32m'siglaPartido'\u001b[0m: \u001b[32m''\u001b[0m,\n",
       "    \u001b[32m'codigoLegislatura'\u001b[0m: \u001b[1;36m56\u001b[0m,\n",
       "    \u001b[32m'numeroSubCota'\u001b[0m: \u001b[1;36m4\u001b[0m,\n",
       "    \u001b[32m'descricao'\u001b[0m: \u001b[32m'CONSULTORIAS, PESQUISAS E TRABALHOS TÉCNICOS.'\u001b[0m,\n",
       "    \u001b[32m'numeroEspecificacaoSubCota'\u001b[0m: \u001b[1;36m0\u001b[0m,\n",
       "    \u001b[32m'descricaoEspecificacao'\u001b[0m: \u001b[32m''\u001b[0m,\n",
       "    \u001b[32m'fornecedor'\u001b[0m: \u001b[32m'KAWAMURA, CALHADO E VILELA SOCIEDADE DE ADVOGADOS'\u001b[0m,\n",
       "    \u001b[32m'cnpjCPF'\u001b[0m: \u001b[32m'166.923.980/0010-4 '\u001b[0m,\n",
       "    \u001b[32m'numero'\u001b[0m: \u001b[32m'1'\u001b[0m,\n",
       "    \u001b[32m'tipoDocumento'\u001b[0m: \u001b[32m'0'\u001b[0m,\n",
       "    \u001b[32m'dataEmissao'\u001b[0m: \u001b[32m'2023-02-15T00:00:00'\u001b[0m,\n",
       "    \u001b[32m'valorDocumento'\u001b[0m: \u001b[32m'28500'\u001b[0m,\n",
       "    \u001b[32m'valorGlosa'\u001b[0m: \u001b[32m'0'\u001b[0m,\n",
       "    \u001b[32m'valorLiquido'\u001b[0m: \u001b[32m'28500'\u001b[0m,\n",
       "    \u001b[32m'mes'\u001b[0m: \u001b[1;36m12\u001b[0m,\n",
       "    \u001b[32m'ano'\u001b[0m: \u001b[1;36m2022\u001b[0m,\n",
       "    \u001b[32m'parcela'\u001b[0m: \u001b[1;36m0\u001b[0m,\n",
       "    \u001b[32m'passageiro'\u001b[0m: \u001b[32m''\u001b[0m,\n",
       "    \u001b[32m'trecho'\u001b[0m: \u001b[32m''\u001b[0m,\n",
       "    \u001b[32m'lote'\u001b[0m: \u001b[32m'1899877'\u001b[0m,\n",
       "    \u001b[32m'ressarcimento'\u001b[0m: \u001b[32m''\u001b[0m,\n",
       "    \u001b[32m'datPagamentoRestituicao'\u001b[0m: \u001b[32m''\u001b[0m,\n",
       "    \u001b[32m'restituicao'\u001b[0m: \u001b[32m''\u001b[0m,\n",
       "    \u001b[32m'numeroDeputadoID'\u001b[0m: \u001b[1;36m3453\u001b[0m,\n",
       "    \u001b[32m'idDocumento'\u001b[0m: \u001b[1;36m7481981\u001b[0m,\n",
       "    \u001b[32m'urlDocumento'\u001b[0m: \u001b[32m'https://www.camara.leg.br/cota-parlamentar/documentos/publ/3453/2022/7481981.pdf'\u001b[0m\n",
       "\u001b[1m}\u001b[0m\n"
      ]
     },
     "metadata": {},
     "output_type": "display_data"
    }
   ],
   "source": [
    "rprint(despesas[0])"
   ]
  }
 ],
 "metadata": {
  "kernelspec": {
   "display_name": "pi",
   "language": "python",
   "name": "python3"
  },
  "language_info": {
   "codemirror_mode": {
    "name": "ipython",
    "version": 3
   },
   "file_extension": ".py",
   "mimetype": "text/x-python",
   "name": "python",
   "nbconvert_exporter": "python",
   "pygments_lexer": "ipython3",
   "version": "3.13.0"
  }
 },
 "nbformat": 4,
 "nbformat_minor": 5
}
